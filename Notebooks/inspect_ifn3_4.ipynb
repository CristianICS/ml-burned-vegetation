{
 "cells": [
  {
   "cell_type": "markdown",
   "metadata": {},
   "source": [
    "# Análisis exploratorio del IFN3 y 4 en Aragón\n",
    "\n",
    "Selección de los mejores estadillos para el entrenamiendo de modelos de clasificación. Es previsible que se seleccionen más puntos de arbolado que de matorral, pues todas las parcelas del inventario se localizaron sobre superficie arbolada.\n",
    "\n",
    "Las estructuras del IFN3 e IFN4 son distintas a la de su predecesor. Los datos se guardan en dos bases de datos principales en formato `accdb` (IFN3) y `mdb` (IFN4). Una BBDD para los datos de campo (prefijo Ifn) y otra para los datos del cálculo de existencias (prefigo Sig)."
   ]
  },
  {
   "cell_type": "code",
   "execution_count": 1,
   "metadata": {},
   "outputs": [],
   "source": [
    "from pathlib import Path\n",
    "import sys\n",
    "import pandas as pd # type: ignore\n",
    "import geopandas as gpd\n",
    "import matplotlib.pyplot as plt # type: ignore\n",
    "\n",
    "# ROOT = r\"D:\\iranzo\\doctorado_v2\\classification\"\n",
    "ROOT = r\"C:\\copia_seguridad\\doctorado_v2\\classification\"\n",
    "# NFI classes\n",
    "module_path = Path(ROOT, \"Python\")\n",
    "sys.path.append(str(module_path))\n",
    "from ifn import Modern # type: ignore"
   ]
  },
  {
   "cell_type": "code",
   "execution_count": 7,
   "metadata": {},
   "outputs": [],
   "source": [
    "# Erase the leading 0s in Especia column\n",
    "def erase_zeros(df, col):\n",
    "    \"\"\"Remove leading zeros and avoid '00' becomes an empty string\"\"\"\n",
    "    return df[col].str.lstrip('0').replace('', '0').astype(\"int16\")"
   ]
  },
  {
   "cell_type": "markdown",
   "metadata": {},
   "source": [
    "En lugar de incluir el conjunto de la información de todas las bases de datos por provincia en un mismo `pandas.DataFrame`, se ha desarrollado una clase con la que ir realizando consultas a las tablas seleccionadas por provincia y juntar **solo el resultado de las consultas**."
   ]
  },
  {
   "cell_type": "code",
   "execution_count": 120,
   "metadata": {},
   "outputs": [],
   "source": [
    "ifn3 = Modern(Path(ROOT, r\"data\\labels\\ifn\\ifn3\"))\n",
    "ifn4 = Modern(Path(ROOT, r\"data\\labels\\ifn\\ifn4\"))"
   ]
  },
  {
   "cell_type": "markdown",
   "metadata": {},
   "source": [
    "## Ifn / PCParcelas"
   ]
  },
  {
   "cell_type": "code",
   "execution_count": 121,
   "metadata": {},
   "outputs": [],
   "source": [
    "cols = [\n",
    "    'Provincia',\n",
    "    'Estadillo',\n",
    "    'Cla',\n",
    "    'Subclase',\n",
    "    'FechaFin',\n",
    "    'Tipo',\n",
    "    'FccTot',\n",
    "    'FccArb',\n",
    "    'Nivel1',\n",
    "    'Nivel2',\n",
    "    'Nivel3'\n",
    "]\n",
    "\n",
    "pcparcelas_3 = ifn3.open('PCParcelas', cols=cols)\n",
    "pcparcelas_4 = ifn4.open('PCParcelas', cols=cols)"
   ]
  },
  {
   "cell_type": "markdown",
   "metadata": {},
   "source": [
    "### Fracción de cabida cubierta\n",
    "\n",
    "Los datos de FCC se dividen entra la fracción total (contando el matorral) y la fracción arbórea (tan solo la vegetación arbórea). No se explica en el documentador de las bases de datos.\n",
    "\n",
    "¿Qué valor de FCC es el que aparece en el IFN2, el de FccTot o el de FccArb? En los materiales y métodos del IFN2 se describe FCC como:\n",
    "\n",
    "> el cociente de dividir la superficie proyectada ortogonalmente sobre el suelo de todas las **copas de los árboles** de la parcela por el área de dicha parcela.\n",
    "\n",
    "Por lo tanto, todo parece indicar que se asocia con la medida de FccArb del IFN3 y 4.\n",
    "\n",
    "> Se utiliza la columna FccArb para seleccionar las parcelas idóneas de tipo forestal para mantener la coherencia con el procedimiento llevado a cabo en el IFN2."
   ]
  },
  {
   "cell_type": "markdown",
   "metadata": {},
   "source": [
    "### Clase\n",
    "\n",
    "Una característica novedosa del IFN3 con respecto al IFN2 son las nuevas columnas \"Cla\" y \"Subclase\". Los operadores del IFN3 intentaron revisitar las parcelas del IFN2 para realizar los nuevos estadillos.\n",
    "\n",
    "La columna \"Cla\" puede contener dos valores:\n",
    "\n",
    "- `N` Parcela levantada por primera vez en el IFN-3.\n",
    "- `A` Parcelas levantadas en el IFN-2/3 que han vuelto a apearse.\n",
    "\n",
    "La columna \"Subclase\" contiene información adicional sobre el levantamiento. Si la parcela es \"Cla = A\", esta columna puede contener los siguientes valores:\n",
    "\n",
    "- `1` Parcela bien localizada.\n",
    "- `3` Parcela con localizaciones en diferentes teselas del mapa topográfico en IFN2 e IFN3. En estos casos, se cumplimentan **dos estadillos** para la misma parcela:\n",
    "  - `3C` Levantados en el punto donde se encuentre el rejón del IFN2. Útil al **comparar inventarios**.\n",
    "  - `3E` Se levantan en el emplazamiento del IFN3. Parcelas para el cálculo de existencias actuales.\n",
    "- `4` No se localiza el rejón del IFN2.\n",
    "  - `4C` No localizado por **cambios totales en la cubierta forestal** de la tesela que contiene la parcela. Puede ser por la pérdida total de la masa del IFN2 o por la incorporación de nueva masa forestal inexistente en IFN2.\n",
    "- `6C` Misma situación que en `4C`, donde se dan a la vez los dos supuestos (pérdida de la masa forestal del IFN2 e incorporación de una nueva).\n",
    "\n",
    "> De las dos clases 3, ¿cuál es la que aparece en las coordenadas proporcionadas por el ministerio?\n",
    "\n",
    "Al no haber ningún estadillo repetido en ninguna de las provincias, se ha entendido que se corresponden a la 3C de cara a favorecer la comparación entre inventarios.\n",
    "\n",
    "> ¿Y el IFN4 no levanta los puntos en función de los del IFN3? ¿Utiliza los A3C o los A3E?\n",
    "\n",
    "Se filtran en el IFN4 los estadillos con la clase A por la subclase A1, con rejones bien localizados e implantados.\n",
    "\n",
    "Es posible que los rejones del IFN2 y del IFN3 estén muy próximos entre sí, por lo que se ha optado por considerarlos iguales (con la misma posición).\n"
   ]
  },
  {
   "cell_type": "code",
   "execution_count": 22,
   "metadata": {},
   "outputs": [
    {
     "name": "stdout",
     "output_type": "stream",
     "text": [
      "Cla  Subclase\n",
      "A    1           4186\n",
      "     3C           564\n",
      "     3E           564\n",
      "     4            583\n",
      "     4C            99\n",
      "     6C            30\n",
      "N    N            504\n",
      "Name: Estadillo, dtype: int64\n"
     ]
    }
   ],
   "source": [
    "print(pcparcelas_3.groupby(['Cla', 'Subclase']).count()['Estadillo'])"
   ]
  },
  {
   "cell_type": "markdown",
   "metadata": {},
   "source": [
    "En el IFN3, son 4186 las parcelas bien localizadas (A), pero existen otras muchas con problemas en la localización (3C, 3E, 4, 4C, 6C). Son 504 las parcelas nuevas en el IFN3 con respecto al IFN2."
   ]
  },
  {
   "cell_type": "code",
   "execution_count": 23,
   "metadata": {},
   "outputs": [
    {
     "name": "stdout",
     "output_type": "stream",
     "text": [
      "Cla  Subclase\n",
      "A    1           4011\n",
      "     4            517\n",
      "     4C            29\n",
      "     6C            54\n",
      "N    N            392\n",
      "Name: Estadillo, dtype: int64\n"
     ]
    }
   ],
   "source": [
    "print(pcparcelas_4.groupby(['Cla', 'Subclase']).count()['Estadillo'])"
   ]
  },
  {
   "cell_type": "markdown",
   "metadata": {},
   "source": [
    "Ver dónde están los estadillos duplicados."
   ]
  },
  {
   "cell_type": "code",
   "execution_count": null,
   "metadata": {},
   "outputs": [],
   "source": [
    "def check_duplicate_cla(df):\n",
    "    \"\"\"Select possible rows duplicated due to Cla and Subclase\"\"\"\n",
    "    duplicates = df.duplicated(subset=['Estadillo', 'Provincia'], keep=False)\n",
    "    print(df[duplicates].groupby(['Cla', 'Subclase']).count()['Estadillo'])"
   ]
  },
  {
   "cell_type": "code",
   "execution_count": 127,
   "metadata": {},
   "outputs": [
    {
     "name": "stdout",
     "output_type": "stream",
     "text": [
      "Cla  Subclase\n",
      "A    3C          564\n",
      "     3E          564\n",
      "Name: Estadillo, dtype: int64\n"
     ]
    }
   ],
   "source": [
    "check_duplicate_cla(pcparcelas_3)"
   ]
  },
  {
   "cell_type": "code",
   "execution_count": 128,
   "metadata": {},
   "outputs": [
    {
     "name": "stdout",
     "output_type": "stream",
     "text": [
      "Series([], Name: Estadillo, dtype: int64)\n"
     ]
    }
   ],
   "source": [
    "check_duplicate_cla(pcparcelas_4)"
   ]
  },
  {
   "cell_type": "markdown",
   "metadata": {},
   "source": [
    "Solo hay estadillos duplicados por motivo de la Clase en el IFN3. Seleccionar todos menos la Subclase 3E."
   ]
  },
  {
   "cell_type": "code",
   "execution_count": 129,
   "metadata": {},
   "outputs": [],
   "source": [
    "pcparcelas_3 = pcparcelas_3.query(\"Subclase != '3E'\")"
   ]
  },
  {
   "cell_type": "markdown",
   "metadata": {},
   "source": [
    "### Años\n",
    "\n",
    "La columna de PCParcelas `FechaFin` contiene la fecha de finalización del apeo de la parcela. La fecha tiene un formato (día/mes/año), y al convertir el resultado de la extracción a un `pandas.DataFrame` se guardan como un objeto `datetime64`.\n",
    "\n",
    "A continuación se muestran solo los años, con el objetivo de comprobar los años de realización en Aragón."
   ]
  },
  {
   "cell_type": "code",
   "execution_count": 97,
   "metadata": {},
   "outputs": [
    {
     "data": {
      "text/html": [
       "<div>\n",
       "<style scoped>\n",
       "    .dataframe tbody tr th:only-of-type {\n",
       "        vertical-align: middle;\n",
       "    }\n",
       "\n",
       "    .dataframe tbody tr th {\n",
       "        vertical-align: top;\n",
       "    }\n",
       "\n",
       "    .dataframe thead th {\n",
       "        text-align: right;\n",
       "    }\n",
       "</style>\n",
       "<table border=\"1\" class=\"dataframe\">\n",
       "  <thead>\n",
       "    <tr style=\"text-align: right;\">\n",
       "      <th></th>\n",
       "      <th>min_date</th>\n",
       "      <th>max_date</th>\n",
       "    </tr>\n",
       "    <tr>\n",
       "      <th>Provincia</th>\n",
       "      <th></th>\n",
       "      <th></th>\n",
       "    </tr>\n",
       "  </thead>\n",
       "  <tbody>\n",
       "    <tr>\n",
       "      <th>22</th>\n",
       "      <td>2002-04-03 02:40:24</td>\n",
       "      <td>2004-12-31 11:37:26</td>\n",
       "    </tr>\n",
       "    <tr>\n",
       "      <th>44</th>\n",
       "      <td>2004-12-13 02:00:47</td>\n",
       "      <td>2005-04-28 15:55:01</td>\n",
       "    </tr>\n",
       "    <tr>\n",
       "      <th>50</th>\n",
       "      <td>2004-12-13 00:00:00</td>\n",
       "      <td>2005-04-28 00:00:00</td>\n",
       "    </tr>\n",
       "  </tbody>\n",
       "</table>\n",
       "</div>"
      ],
      "text/plain": [
       "                     min_date            max_date\n",
       "Provincia                                        \n",
       "22        2002-04-03 02:40:24 2004-12-31 11:37:26\n",
       "44        2004-12-13 02:00:47 2005-04-28 15:55:01\n",
       "50        2004-12-13 00:00:00 2005-04-28 00:00:00"
      ]
     },
     "execution_count": 97,
     "metadata": {},
     "output_type": "execute_result"
    }
   ],
   "source": [
    "pcparcelas_3.groupby(['Provincia'])['FechaFin'].agg(\n",
    "    min_date='min', max_date='max')"
   ]
  },
  {
   "cell_type": "markdown",
   "metadata": {},
   "source": [
    "El año 2002 tiene muy pocos registros."
   ]
  },
  {
   "cell_type": "code",
   "execution_count": 186,
   "metadata": {},
   "outputs": [
    {
     "data": {
      "text/plain": [
       "FechaFin\n",
       "2005.0    3247\n",
       "2004.0    2714\n",
       "2002.0       1\n",
       "Name: count, dtype: int64"
      ]
     },
     "execution_count": 186,
     "metadata": {},
     "output_type": "execute_result"
    }
   ],
   "source": [
    "pcparcelas_3['FechaFin'].dt.year.value_counts()"
   ]
  },
  {
   "cell_type": "markdown",
   "metadata": {},
   "source": [
    "El tercer inventario se realizó entre el 2002 y el 2005, mientras que el cuatro se llevó a cabo durante 2021."
   ]
  },
  {
   "cell_type": "code",
   "execution_count": 98,
   "metadata": {},
   "outputs": [
    {
     "data": {
      "text/html": [
       "<div>\n",
       "<style scoped>\n",
       "    .dataframe tbody tr th:only-of-type {\n",
       "        vertical-align: middle;\n",
       "    }\n",
       "\n",
       "    .dataframe tbody tr th {\n",
       "        vertical-align: top;\n",
       "    }\n",
       "\n",
       "    .dataframe thead th {\n",
       "        text-align: right;\n",
       "    }\n",
       "</style>\n",
       "<table border=\"1\" class=\"dataframe\">\n",
       "  <thead>\n",
       "    <tr style=\"text-align: right;\">\n",
       "      <th></th>\n",
       "      <th>min_date</th>\n",
       "      <th>max_date</th>\n",
       "    </tr>\n",
       "    <tr>\n",
       "      <th>Provincia</th>\n",
       "      <th></th>\n",
       "      <th></th>\n",
       "    </tr>\n",
       "  </thead>\n",
       "  <tbody>\n",
       "    <tr>\n",
       "      <th>22</th>\n",
       "      <td>2021-06-18</td>\n",
       "      <td>2021-10-28</td>\n",
       "    </tr>\n",
       "    <tr>\n",
       "      <th>44</th>\n",
       "      <td>2021-11-02</td>\n",
       "      <td>2022-03-18</td>\n",
       "    </tr>\n",
       "    <tr>\n",
       "      <th>50</th>\n",
       "      <td>2021-02-25</td>\n",
       "      <td>2021-07-20</td>\n",
       "    </tr>\n",
       "  </tbody>\n",
       "</table>\n",
       "</div>"
      ],
      "text/plain": [
       "            min_date   max_date\n",
       "Provincia                      \n",
       "22        2021-06-18 2021-10-28\n",
       "44        2021-11-02 2022-03-18\n",
       "50        2021-02-25 2021-07-20"
      ]
     },
     "execution_count": 98,
     "metadata": {},
     "output_type": "execute_result"
    }
   ],
   "source": [
    "pcparcelas_4.groupby(['Provincia'])['FechaFin'].agg(\n",
    "    min_date='min', max_date='max')"
   ]
  },
  {
   "cell_type": "markdown",
   "metadata": {},
   "source": [
    "La mayor cantidad de años con los que se lleva a cabo el IFN3 puede estar debida a dos factores: el avance de las técnicas de medida y el menor número de estadillos muestreados en el IFN4."
   ]
  },
  {
   "cell_type": "code",
   "execution_count": 26,
   "metadata": {},
   "outputs": [
    {
     "name": "stdout",
     "output_type": "stream",
     "text": [
      "Estadillos en IFN3: 6530\n",
      "Estadillos en IFN4: 5003\n"
     ]
    }
   ],
   "source": [
    "print(f\"Estadillos en IFN3: {pcparcelas_3.shape[0]}\")\n",
    "print(f\"Estadillos en IFN4: {pcparcelas_4.shape[0]}\")"
   ]
  },
  {
   "cell_type": "markdown",
   "metadata": {},
   "source": [
    "### Tipo\n",
    "\n",
    "Se encuentran los siguientes tipos de parcela:\n",
    "\n",
    "0. Parcela Normal. Parcela arbolada.\n",
    "1. Parcela Inaccesible. Parcelas que por su peligrosidad, extrema dificultad, carestía o exceso de tiempo que entraña su alcance o apeo no deben levantarse.\n",
    "2. Parcela Anulada. Parcelas anuladas en gabinete. Aparecerán señaladas en las fotografías con un doble círculo.\n",
    "3. Parcela No Arbolada. Parcelas con fracción de cabida cubierta (arbolada) **menor al 5%**.\n",
    "4. Parcela Eliminada. Parcelas eliminadas en gabinete. Aparecerán señaladas en las fotografías con un doble círculo.\n",
    "\n",
    "Se seleccionan las parcelas 0 además de las parcelas no arboladas para seleccionar puntos de matorral. Estas últimas, aunque muy inferiores en número, presentan una FCC total elevada, lo que podría indicar un porcentaje alto de especies de matorral."
   ]
  },
  {
   "cell_type": "code",
   "execution_count": null,
   "metadata": {},
   "outputs": [
    {
     "name": "stdout",
     "output_type": "stream",
     "text": [
      "Tipo\n",
      "0    6330\n",
      "1      21\n",
      "2      32\n",
      "3      22\n",
      "4     125\n",
      "Name: Estadillo, dtype: int64\n"
     ]
    },
    {
     "data": {
      "text/plain": [
       "<Axes: xlabel='FCC tot mean', ylabel='Tipo'>"
      ]
     },
     "execution_count": 32,
     "metadata": {},
     "output_type": "execute_result"
    },
    {
     "data": {
      "image/png": "[encoded data removed]",
      "text/plain": [
       "<Figure size 640x480 with 1 Axes>"
      ]
     },
     "metadata": {},
     "output_type": "display_data"
    }
   ],
   "source": [
    "print(pcparcelas_3.groupby(['Tipo']).count()['Estadillo'])\n",
    "pcparcelas_3.groupby(['Tipo'])['FccTot'].mean().plot(kind=\"barh\", xlabel=\"FCC tot mean\")"
   ]
  },
  {
   "cell_type": "code",
   "execution_count": 33,
   "metadata": {},
   "outputs": [
    {
     "name": "stdout",
     "output_type": "stream",
     "text": [
      "Tipo\n",
      "0    4915\n",
      "1      33\n",
      "2       5\n",
      "3      50\n",
      "Name: Estadillo, dtype: int64\n"
     ]
    },
    {
     "data": {
      "text/plain": [
       "<Axes: xlabel='FCC tot mean', ylabel='Tipo'>"
      ]
     },
     "execution_count": 33,
     "metadata": {},
     "output_type": "execute_result"
    },
    {
     "data": {
      "image/png": "[encoded data removed]",
      "text/plain": [
       "<Figure size 640x480 with 1 Axes>"
      ]
     },
     "metadata": {},
     "output_type": "display_data"
    }
   ],
   "source": [
    "print(pcparcelas_4.groupby(['Tipo']).count()['Estadillo'])\n",
    "pcparcelas_4.groupby(['Tipo'])['FccTot'].mean().plot(kind=\"barh\", xlabel=\"FCC tot mean\")"
   ]
  },
  {
   "cell_type": "markdown",
   "metadata": {},
   "source": [
    "### Usos de suelo\n",
    "\n",
    "Nivel 1:\n",
    "\n",
    "- Monte / Forestal (1) Superficie con especies arbóreas, arbustivas, de matorral o herbáceas (naturales o repoblación) excepto cultivos.\n",
    "- Agrícola (2) Territorio con herbáceas y/o leñosas que se laborea con una fuerte intervención humana.\n",
    "- Artificial (3) Dominado por edificios, parques urbanos (aunque estén\n",
    "poblados de arboles) u otras construcciones humanas.\n",
    "- Humedal (4) Lo constituyen las lagunas, charcas, zonas húmedas, marismas y corrientes discontinuas de agua.\n",
    "- Agua (5) Tierra constituida por ríos, lagos, embalses, canales o estanques con superficies continuas de más de 0,25 ha y con agua prácticamente todo el año.\n",
    "\n",
    "Nivel 2 (solo aquellos con uso forestal de Nivel 1 == 1):\n",
    "\n",
    "- Monte arbolado (1) Territorio con especies forestales arbóreas como estructura vertical dominante (FCC >= 20%)\n",
    "- Monte arbolado ralo (2) Especies arbóreas forestales (FCC >= 10 y FCC < 20) pero que puede presentar un dominio de especies de matorral o pastizal natural, pero con una presencia de árboles forestales importante.\n",
    "- Monte temporalmente desarbolado (3) Área que en el pasado cercano era monte arbolado y actualmente está desprovisto de árboles opero que, casi con seguridad, en el futuro próximo volverá a estar cubierto de ellos.\n",
    "- Monte desarbolado (4) Terreno poblado con especies de matorral o/y pastizal natural como manifestación vegetal dominante. Puede haber o no presencia de\n",
    "árboles forestales (FCC < 5%)\n",
    "- Monte sin vegetación superior (5) Terreno situado en zona de uso forestal pero sin vegetales superiores, aunque sí podría estarlo por vegetales inferiores o aparecer sin cubierta vegetal alguna.\n",
    "- Árboles fuera del monte (6) Riberas pobladas de árboles que no sean plantaciones situadas fuera de los montes, bosquetes de menos de 2.500 m2 de cabida, las alineaciones de especies arbóreas o arbustivas de anchura menor de 25 m y los árboles sueltos situados sobre algún terreno de uso forestal.\n",
    "- Monte desarbolado con arbolado disperso (7) Terreno con especies de\n",
    "matorral o pastizal natural como manifestación vegetal dominante, pero presencia de árboles forestales importante (FCC >= 5% y FCC < 10%).\n",
    "\n",
    "Nivel 3:\n",
    "\n",
    "Monte arbolado (Nivel 2 == 1):\n",
    "\n",
    "- Bosque (1) Estructura de árboles, arbustos y otros vegetales con escasa influencia del ser humano. \n",
    "- Bosque de plantaciones (2) Estructura de árboles bien solos o acompañados de arbustos y otros vegetales pero con predominio absoluto del estrato arbóreo. Su origen es artificial.\n",
    "- Bosque adehesado (3). Estructura de árboles y arbustos con cultivos herbáceos y pastizales y un uso agro-silvo-pastoral.\n",
    "- Complementos del bosque (4). Terrenos que no siendo bosques están al servicio de ellos (pistas forestales, cortafuegos, parques de madera...).\n",
    "\n",
    "Monte arbolado ralo (Nivel 2 == 2): Mismas categorías que el Monte arbolado, sustituyendo monte arbolado por monte arbolado ralo.\n",
    "\n",
    "Monte temporalmente desarbolado (Nivel 2 == 3):\n",
    "\n",
    "- Talas (1) Debido a cortas efectuadas por el hombre.\n",
    "- Incendios (2). Dbido al fuego (provocado por intervención humana o natural).\n",
    "- Fenómenos naturales (3) Sucesos naturales (excepto incendios) (e.g. inundaciones, corrimientos de tierra, aludes de nieve)\n",
    "\n",
    "Se seleccionan los de Nivel 1 == 1, y dentro de esta categoría:\n",
    "\n",
    "- Nivel 2 == 1 para las etiquetas de vegetación forestal.\n",
    "- Nivel 2 clases 2-5 para seleccionar especies de vegetación arbustiva.\n",
    "\n",
    "Dentro del Nivel 2 == 3, se selecciona únicamente la clase 2 (incendios).\n",
    "\n",
    "No se seleccionan los complementos de bosque ni el bosque adehesado en las categorías de Nivel 2 == 1 | 2."
   ]
  },
  {
   "cell_type": "code",
   "execution_count": 99,
   "metadata": {},
   "outputs": [
    {
     "name": "stdout",
     "output_type": "stream",
     "text": [
      "shrubs\n",
      "Nivel1  Nivel2  Nivel3\n",
      "1       2       1         205\n",
      "                2          24\n",
      "Name: Estadillo, dtype: int64\n",
      "forest\n",
      "Nivel1  Nivel2  Nivel3\n",
      "1       1       1         4698\n",
      "                2          732\n",
      "Name: Estadillo, dtype: int64\n",
      "burned\n",
      "Nivel1  Nivel2  Nivel3\n",
      "1       3       2         9\n",
      "Name: Estadillo, dtype: int64\n"
     ]
    }
   ],
   "source": [
    "queries = {\n",
    "    'shrubs': \"Nivel1 == '1' and (Nivel2 in ['2', '4']) and (Nivel3 in ['1', '2'])\",\n",
    "    'forest': \"Nivel1 == '1' and Nivel2 == '1' and (Nivel3 in ['1', '2'])\",\n",
    "    'burned': \"Nivel1 == '1' and Nivel2 == '3' and (Nivel3 == '2')\"\n",
    "}\n",
    "\n",
    "niv_cols = ['Nivel1', 'Nivel2', 'Nivel3']\n",
    "\n",
    "for k, v in queries.items():\n",
    "    print(k)\n",
    "    print(pcparcelas_3.query(v).groupby(niv_cols).count()[\"Estadillo\"])"
   ]
  },
  {
   "cell_type": "code",
   "execution_count": 100,
   "metadata": {},
   "outputs": [
    {
     "name": "stdout",
     "output_type": "stream",
     "text": [
      "shrubs\n",
      "Nivel1  Nivel2  Nivel3\n",
      "1       2       1         168\n",
      "                2          16\n",
      "        4       1           3\n",
      "                2           1\n",
      "Name: Estadillo, dtype: int64\n",
      "forest\n",
      "Nivel1  Nivel2  Nivel3\n",
      "1       1       1         3937\n",
      "                2          628\n",
      "Name: Estadillo, dtype: int64\n",
      "burned\n",
      "Nivel1  Nivel2  Nivel3\n",
      "1       3       2         9\n",
      "Name: Estadillo, dtype: int64\n"
     ]
    }
   ],
   "source": [
    "for k, v in queries.items():\n",
    "    print(k)\n",
    "    print(pcparcelas_4.query(v).groupby(niv_cols).count()[\"Estadillo\"])"
   ]
  },
  {
   "cell_type": "markdown",
   "metadata": {},
   "source": [
    "## Ifn / PCEspParc\n",
    "\n",
    "Seleccionar la primera especie de la parcela. Se seleccionan solo las especies en la primera posición en los estadillos seleccionados en la table PCParcelas."
   ]
  },
  {
   "cell_type": "code",
   "execution_count": 190,
   "metadata": {},
   "outputs": [],
   "source": [
    "# Cols from PCParcelas\n",
    "pcparcelas_cols = ['PCParcelas.' + c for c in ['Estadillo', 'Provincia']]\n",
    "# Cols from PCEspParc\n",
    "pcesp_cols = ['PCEspParc.' + c for c in ['Ocupa', 'Especie']]\n",
    "# Construct the select query.\n",
    "select_cols = pcparcelas_cols + pcesp_cols\n",
    "\n",
    "# Create WHERE statement\n",
    "where = ' AND '.join([\n",
    "  'PCParcelas.Subclase <> \\'3E\\'',\n",
    "  'PCEspParc.PosEsp = \\'1\\'',\n",
    "  'PCEspParc.Subclase <> \\'3E\\''\n",
    "])\n",
    "# Create the JOIN\n",
    "join_sql = 'INNER JOIN PCEspParc ON PCParcelas.Estadillo=PCEspParc.Estadillo'\n",
    "\n",
    "pcesp_3 = ifn3.open('PCParcelas', where=where, join=join_sql, cols=select_cols)\n",
    "pcesp_4 = ifn4.open('PCParcelas', where=where, join=join_sql, cols=select_cols)"
   ]
  },
  {
   "cell_type": "code",
   "execution_count": 191,
   "metadata": {},
   "outputs": [],
   "source": [
    "join_c = [\"Estadillo\", \"Provincia\"]\n",
    "pcparcelas_3_prun = pcesp_3.join(pcparcelas_3.set_index(join_c), on=join_c)\n",
    "pcparcelas_4_prun = pcesp_4.join(pcparcelas_4.set_index(join_c), on=join_c)"
   ]
  },
  {
   "cell_type": "code",
   "execution_count": null,
   "metadata": {},
   "outputs": [],
   "source": [
    "pcparcelas_3_prun[\"Especie\"] = erase_zeros(pcparcelas_3_prun, \"Especie\")\n",
    "pcparcelas_4_prun[\"Especie\"] = erase_zeros(pcparcelas_4_prun, \"Especie\")"
   ]
  },
  {
   "cell_type": "code",
   "execution_count": 193,
   "metadata": {},
   "outputs": [],
   "source": [
    "esp_codes_path = Path(ROOT, r\"data\\labels\\label_codes.csv\")\n",
    "esp_codes_df = pd.read_csv(esp_codes_path)\n",
    "\n",
    "def species_join(df):\n",
    "    joined = df.join(esp_codes_df.set_index(\"code_ifn\"), on=\"Especie\")\n",
    "    # Select valid vegetation types\n",
    "    return joined.query(\"label.notna()\")\n",
    "\n",
    "pcparcelas_3_prun = species_join(pcparcelas_3_prun)\n",
    "pcparcelas_4_prun = species_join(pcparcelas_4_prun)"
   ]
  },
  {
   "cell_type": "code",
   "execution_count": 227,
   "metadata": {},
   "outputs": [
    {
     "data": {
      "text/plain": [
       "<Axes: ylabel='label'>"
      ]
     },
     "execution_count": 227,
     "metadata": {},
     "output_type": "execute_result"
    },
    {
     "data": {
      "image/png": "[encoded data removed]",
      "text/plain": [
       "<Figure size 640x480 with 1 Axes>"
      ]
     },
     "metadata": {},
     "output_type": "display_data"
    }
   ],
   "source": [
    "pcparcelas_3_prun.groupby('label')[\"Ocupa\"].mean().reset_index().plot(kind=\"barh\", y=\"Ocupa\", x=\"label\")"
   ]
  },
  {
   "cell_type": "markdown",
   "metadata": {},
   "source": [
    "## Conclusiones\n",
    "\n",
    "Se seleccionan estadillos por las mismas métricas y umbrales que en el IFN2 para mantener la coherencia.\n",
    "\n",
    "Los puntos de matorral se seleccionan en función de las columnas con los usos de suelo (`Nivel*`) \n",
    "\n",
    "De la misma forma que en el IFN2, también se seleccionan aquellos puntos que se sitúan en una zona quemada hace no más de diez años. En el IFN4, realizado en 2021, se utilizan incendios de entre 2011 y 2020. En el caso del IFN3, se realiza un filtrado iterativo entre los años de elaboración (2002 a 2005).\n",
    "\n",
    "Se seleccionan primero los puntos de matorral, evitando así que se vuelvan a incluir en puntos con vegetación forestal."
   ]
  },
  {
   "cell_type": "code",
   "execution_count": 2,
   "metadata": {},
   "outputs": [],
   "source": [
    "# Include COORDINATES inside each ifn database\n",
    "coord_path = Path(ROOT, \"data/labels/ifn/coordinates/IFN4_crs_oficial.csv\")\n",
    "coord = pd.read_csv(coord_path)\n",
    "coord = coord[['provincia', 'estadillo', 'X_WGS84_4326', 'Y_WGS84_4326']]\n",
    "\n",
    "def add_crs(df, crs: pd.DataFrame):\n",
    "    \"\"\"Add point X,Y of each IFN point\"\"\"\n",
    "    df_cols = ['Estadillo', 'Provincia']\n",
    "    df_crs = df.join(crs.set_index(['estadillo', 'provincia']), on = df_cols)\n",
    "    # Create a geodataframe object\n",
    "    x_col = \"X_WGS84_4326\"\n",
    "    y_col = \"Y_WGS84_4326\"\n",
    "    crs = 'EPSG:4326'\n",
    "    geom = gpd.points_from_xy(\n",
    "        df_crs[x_col], df_crs[y_col], crs=crs)\n",
    "    data = gpd.GeoDataFrame(df_crs, geometry=geom)\n",
    "    return data.query(\"X_WGS84_4326.notnull()\")"
   ]
  },
  {
   "cell_type": "code",
   "execution_count": 3,
   "metadata": {},
   "outputs": [],
   "source": [
    "# Add species codes\n",
    "esp_codes_path = Path(ROOT, r\"data\\labels\\label_codes.csv\")\n",
    "esp_codes_df = pd.read_csv(esp_codes_path)\n",
    "\n",
    "def species_join(df):\n",
    "    joined = df.join(esp_codes_df.set_index(\"code_ifn\"), on=\"Especie\")\n",
    "    # Select valid vegetation types\n",
    "    return joined.query(\"label.notna()\")"
   ]
  },
  {
   "cell_type": "code",
   "execution_count": 4,
   "metadata": {},
   "outputs": [],
   "source": [
    "# Start all the filtering process again to avoid errors\n",
    "ifn3 = Modern(Path(ROOT, r\"data\\labels\\ifn\\ifn3\"))\n",
    "ifn4 = Modern(Path(ROOT, r\"data\\labels\\ifn\\ifn4\"))"
   ]
  },
  {
   "cell_type": "code",
   "execution_count": 5,
   "metadata": {},
   "outputs": [],
   "source": [
    "def get_forest_labels(ifn: Modern, number):\n",
    "    \n",
    "    pcparcelas_cols = [\n",
    "        'Provincia',\n",
    "        'Estadillo',\n",
    "        'FechaFin',\n",
    "        'FccArb'\n",
    "    ]\n",
    "\n",
    "    pcesp_cols = [\"Especie\", \"Ocupa\"]\n",
    "\n",
    "    # Prepare data for the query\n",
    "    cols = ['PCParcelas.' + c for c in pcparcelas_cols]\n",
    "    # Cols from PCEspParc\n",
    "    select = cols + ['PCEspParc.' + c for c in pcesp_cols]\n",
    "\n",
    "    # Create WHERE statement\n",
    "    where = ' AND '.join([\n",
    "        'PCParcelas.Subclase <> \\'3E\\'',\n",
    "        # Parcela normal\n",
    "        'PCParcelas.Tipo = \\'0\\'',\n",
    "        'PCParcelas.FccArb > 20',\n",
    "        'PCParcelas.Nivel1 = \\'1\\'',\n",
    "        'PCParcelas.Nivel2 = \\'1\\'',\n",
    "        'PCEspParc.PosEsp = \\'1\\'',\n",
    "        'PCEspParc.Ocupa >= 4',\n",
    "        'PCEspParc.Subclase <> \\'3E\\''\n",
    "    ])\n",
    "\n",
    "    # Create the JOIN\n",
    "    join = 'INNER JOIN PCEspParc ON PCParcelas.Estadillo=PCEspParc.Estadillo'\n",
    "\n",
    "    data = ifn.open('PCParcelas', cols=select, where=where, join=join)\n",
    "    # Erase the leading 0s in Estadillo column (matching the IFN2 style)\n",
    "    data[\"Estadillo\"] = erase_zeros(data, \"Estadillo\")\n",
    "    # And in Especie column\n",
    "    data[\"Especie\"] = erase_zeros(data, \"Especie\")\n",
    "\n",
    "    # Add a column with the NFI name\n",
    "    data[\"source\"] = f\"NFI{str(number)}\"\n",
    "    return data"
   ]
  },
  {
   "cell_type": "code",
   "execution_count": 8,
   "metadata": {},
   "outputs": [],
   "source": [
    "forest_labels = pd.concat(\n",
    "    [get_forest_labels(ifn3,3), get_forest_labels(ifn4,4)])\n",
    "forest_labels = add_crs(forest_labels, coord)\n",
    "forest_labels = species_join(forest_labels)\n",
    "# There are several rows with no date values\n",
    "forest_labels = forest_labels.dropna()"
   ]
  },
  {
   "cell_type": "code",
   "execution_count": 9,
   "metadata": {},
   "outputs": [],
   "source": [
    "def get_shrub_labels(ifn: Modern, number):\n",
    "    \n",
    "    pcparcelas_cols = [\n",
    "        'Provincia',\n",
    "        'Estadillo',\n",
    "        'FechaFin',\n",
    "        'Nivel1',\n",
    "        'Nivel2',\n",
    "        'FccArb'\n",
    "    ]\n",
    "\n",
    "    pcesp_cols = [\"Especie\", 'Ocupa']\n",
    "\n",
    "    # Prepare data for the query\n",
    "    cols = ['PCParcelas.' + c for c in pcparcelas_cols]\n",
    "    # Cols from PCEspParc\n",
    "    select = cols + ['PCEspParc.' + c for c in pcesp_cols]\n",
    "\n",
    "    # Create WHERE statement\n",
    "    where = ' AND '.join([\n",
    "        'PCParcelas.Subclase <> \\'3E\\'',\n",
    "        'PCEspParc.PosEsp = \\'1\\'',\n",
    "        'PCEspParc.Subclase <> \\'3E\\''\n",
    "    ])\n",
    "\n",
    "    # Create the JOIN\n",
    "    join = 'INNER JOIN PCEspParc ON PCParcelas.Estadillo=PCEspParc.Estadillo'\n",
    "\n",
    "    data = ifn.open('PCParcelas', cols=select, where=where, join=join)\n",
    "    # Erase the leading 0s in Estadillo column (matching the IFN2 style)\n",
    "    data[\"Estadillo\"] = erase_zeros(data, \"Estadillo\")\n",
    "    # And in Especie column\n",
    "    data[\"Especie\"] = erase_zeros(data, \"Especie\")\n",
    "\n",
    "    # Add a column with the NFI name\n",
    "    data[\"source\"] = f\"NFI{str(number)}\"\n",
    "\n",
    "    return data"
   ]
  },
  {
   "cell_type": "code",
   "execution_count": 10,
   "metadata": {},
   "outputs": [],
   "source": [
    "shrub_labels = pd.concat([get_shrub_labels(ifn3,3), get_shrub_labels(ifn4,4)])\n",
    "shrub_labels = add_crs(shrub_labels, coord)\n",
    "shrub_labels = species_join(shrub_labels)"
   ]
  },
  {
   "cell_type": "code",
   "execution_count": 11,
   "metadata": {},
   "outputs": [],
   "source": [
    "# From all the above target shrub points, select shrub data by:\n",
    "# 1. Points within fire perimeters\n",
    "fires_path = Path(ROOT, \"data/fires.gpkg\")\n",
    "fires = gpd.read_file(fires_path) # EPSG:4326\n",
    "fires[\"Year\"] = fires[\"Year\"].astype(\"int16\")\n",
    "\n",
    "def filter_by_year(df, fires, year):\n",
    "    df_fires = gpd.sjoin(df, fires, how=\"inner\", predicate=\"within\")\n",
    "    # Filter by fire year\n",
    "    return df_fires.query(f\"Year >= {year-10} and Year <= {year-1}\")\n",
    "\n",
    "burned_shrub = []\n",
    "for y in [2002, 2004, 2005]:\n",
    "    burned_shrub.append(filter_by_year(shrub_labels, fires, y))\n",
    "burned_shrub = pd.concat(burned_shrub)"
   ]
  },
  {
   "cell_type": "code",
   "execution_count": 12,
   "metadata": {},
   "outputs": [
    {
     "data": {
      "text/plain": [
       "(339, 38)"
      ]
     },
     "execution_count": 12,
     "metadata": {},
     "output_type": "execute_result"
    }
   ],
   "source": [
    "burned_shrub.shape"
   ]
  },
  {
   "cell_type": "code",
   "execution_count": 13,
   "metadata": {},
   "outputs": [],
   "source": [
    "# 2. Plots with land cover as shrub type (all but forest)\n",
    "cover_shrub = shrub_labels.query(\"Nivel1 == '1' and Nivel2 != '1'\")"
   ]
  },
  {
   "cell_type": "code",
   "execution_count": 14,
   "metadata": {},
   "outputs": [
    {
     "data": {
      "text/plain": [
       "(280, 18)"
      ]
     },
     "execution_count": 14,
     "metadata": {},
     "output_type": "execute_result"
    }
   ],
   "source": [
    "cover_shrub.shape"
   ]
  },
  {
   "cell_type": "markdown",
   "metadata": {},
   "source": [
    "Muchos de los estadillos que se sitúan sobre un área quemada poco tiempo atrás están enmarcados en los tipos de matorral."
   ]
  },
  {
   "cell_type": "code",
   "execution_count": 15,
   "metadata": {},
   "outputs": [
    {
     "data": {
      "text/plain": [
       "(278, 38)"
      ]
     },
     "execution_count": 15,
     "metadata": {},
     "output_type": "execute_result"
    }
   ],
   "source": [
    "# Keep the first occurrence and drop the others with the same values in cols\n",
    "cols = [\"Estadillo\", \"Provincia\"]\n",
    "shrub_labels = pd.concat([burned_shrub, cover_shrub])\n",
    "shrub_labels = shrub_labels.drop_duplicates(subset=cols)\n",
    "shrub_labels.shape"
   ]
  },
  {
   "cell_type": "code",
   "execution_count": 16,
   "metadata": {},
   "outputs": [],
   "source": [
    "# Update the label code to point shrub labels\n",
    "shrub_labels[\"code_v1\"] = shrub_labels[\"code_v1\"] + 10"
   ]
  },
  {
   "cell_type": "code",
   "execution_count": 17,
   "metadata": {},
   "outputs": [
    {
     "name": "stdout",
     "output_type": "stream",
     "text": [
      "code_v1\n",
      "11.0    124\n",
      "12.0     16\n",
      "13.0      4\n",
      "14.0     19\n",
      "15.0      2\n",
      "16.0     37\n",
      "17.0     53\n",
      "19.0     23\n",
      "Name: count, dtype: int64\n"
     ]
    }
   ],
   "source": [
    "print(shrub_labels[\"code_v1\"].value_counts().sort_index())"
   ]
  },
  {
   "cell_type": "code",
   "execution_count": 18,
   "metadata": {},
   "outputs": [],
   "source": [
    "def joining_ifn(forest_df, shrub_df):\n",
    "    # Merge two kind of labels\n",
    "    merge = pd.concat([forest_df, shrub_df]).reset_index()\n",
    "    # Remove duplicates and maintain the shrub one\n",
    "    # Sort so that rows with shrub labels 5 come first\n",
    "    cols = [\"Estadillo\", \"Provincia\"]\n",
    "    merge.sort_values(by='code_v1', ascending=False)['code_v1']\n",
    "    # For each group of duplicates, keep the first occurrence (shrub label)\n",
    "    merge = merge.drop_duplicates(subset=cols, keep='first')\n",
    "    return merge\n",
    "\n",
    "points = joining_ifn(forest_labels, shrub_labels)"
   ]
  },
  {
   "cell_type": "code",
   "execution_count": 19,
   "metadata": {},
   "outputs": [],
   "source": [
    "# Add a year column (avoid \"year\" name due to there is the same key in fire df)\n",
    "points[\"ANO\"] = points['FechaFin'].dt.year"
   ]
  },
  {
   "cell_type": "code",
   "execution_count": 21,
   "metadata": {},
   "outputs": [
    {
     "data": {
      "text/plain": [
       "Index(['index', 'Provincia', 'Estadillo', 'FechaFin', 'FccArb', 'Especie',\n",
       "       'Ocupa', 'source', 'X_WGS84_4326', 'Y_WGS84_4326', 'geometry',\n",
       "       'code_v1', 'code_v1_reclass', 'label', 'label_reclass', 'label_rc_code',\n",
       "       'color', 'Nivel1', 'Nivel2', 'index_right', 'IDPIF', 'PROV', 'MUN_1',\n",
       "       'MUN_2', 'MUN_3', 'FECHA', 'FUENTE', 'ID_AGRUPAC', 'SBTP', 'SS00Z',\n",
       "       'SSTIPO', 'FACTORBASI', 'INCENTIPO', 'EPOCA', 'PERIMETER', 'Year',\n",
       "       'Fire_ID', 'IDPAF', 'Sup_FO', 'ANO'],\n",
       "      dtype='object')"
      ]
     },
     "execution_count": 21,
     "metadata": {},
     "output_type": "execute_result"
    }
   ],
   "source": [
    "points.columns"
   ]
  },
  {
   "cell_type": "code",
   "execution_count": 20,
   "metadata": {},
   "outputs": [],
   "source": [
    "# Export data\n",
    "cols_to_keep = [\n",
    "    \"Estadillo\", \"Provincia\", \"ANO\", \"code_v1\", \"source\", \"FccArb\", \"Ocupa\", \"geometry\"]\n",
    "# Rename columns\n",
    "df = points[cols_to_keep].rename(columns={\n",
    "    'ANO': 'YEAR',\n",
    "    'code_v1': 'ESPE',\n",
    "    'FccArb': 'FCC',\n",
    "    'Ocupa': 'Ocu1'\n",
    "})\n",
    "\n",
    "# Export labels by NFI\n",
    "for nfi in df[\"source\"].unique():\n",
    "    nfi_number = nfi[-1]\n",
    "    out_path = Path(ROOT, f\"data/labels/ifn{nfi_number}_labels.gpkg\")\n",
    "    df.query(f\"source == '{nfi}'\").to_file(out_path)"
   ]
  }
 ],
 "metadata": {
  "kernelspec": {
   "display_name": "geo_env",
   "language": "python",
   "name": "python3"
  },
  "language_info": {
   "codemirror_mode": {
    "name": "ipython",
    "version": 3
   },
   "file_extension": ".py",
   "mimetype": "text/x-python",
   "name": "python",
   "nbconvert_exporter": "python",
   "pygments_lexer": "ipython3",
   "version": "3.12.3"
  }
 },
 "nbformat": 4,
 "nbformat_minor": 4
}
